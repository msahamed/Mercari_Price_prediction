{
 "cells": [
  {
   "cell_type": "code",
   "execution_count": 1,
   "metadata": {
    "collapsed": true
   },
   "outputs": [],
   "source": [
    "import warnings\n",
    "import numpy as np\n",
    "import pandas as pd\n",
    "import matplotlib.pyplot as plt\n",
    "from lightgbm import LGBMRegressor\n",
    "from sklearn.model_selection import KFold\n",
    "from sklearn.preprocessing import LabelEncoder\n",
    "from sklearn.feature_extraction.text import CountVectorizer, TfidfVectorizer\n",
    "\n",
    "random_state = 6\n",
    "np.random.seed(random_state)\n",
    "warnings.filterwarnings('ignore')"
   ]
  },
  {
   "cell_type": "code",
   "execution_count": 2,
   "metadata": {
    "collapsed": true
   },
   "outputs": [],
   "source": [
    "%matplotlib inline\n",
    "get_ipython().run_line_magic('matplotlib', 'inline')\n",
    "\n",
    "# latex parameter\n",
    "font = {\n",
    "    'family': 'serif', \n",
    "    'serif': ['Computer Modern Roman'],\n",
    "    'weight' : 'regular',\n",
    "    'size'   : 18\n",
    "    }\n",
    "\n",
    "plt.rc('font', **font)\n",
    "plt.rc('text', usetex=False)\n",
    "# plt.style.use('classic')\n",
    "\n",
    "color_map = 'viridis'"
   ]
  },
  {
   "cell_type": "code",
   "execution_count": 3,
   "metadata": {
    "collapsed": true
   },
   "outputs": [],
   "source": [
    "df_train_old = pd.read_csv('train.tsv', sep='\\t')\n",
    "df_test_old = pd.read_csv('test.tsv', sep='\\t')"
   ]
  },
  {
   "cell_type": "code",
   "execution_count": 4,
   "metadata": {
    "collapsed": true
   },
   "outputs": [],
   "source": [
    "df_train = df_train_old.copy()\n",
    "df_test = df_test_old.copy()"
   ]
  },
  {
   "cell_type": "code",
   "execution_count": 5,
   "metadata": {},
   "outputs": [
    {
     "name": "stdout",
     "output_type": "stream",
     "text": [
      "<class 'pandas.core.frame.DataFrame'>\n",
      "RangeIndex: 1482535 entries, 0 to 1482534\n",
      "Data columns (total 8 columns):\n",
      "train_id             1482535 non-null int64\n",
      "name                 1482535 non-null object\n",
      "item_condition_id    1482535 non-null int64\n",
      "category_name        1476208 non-null object\n",
      "brand_name           849853 non-null object\n",
      "price                1482535 non-null float64\n",
      "shipping             1482535 non-null int64\n",
      "item_description     1482531 non-null object\n",
      "dtypes: float64(1), int64(3), object(4)\n",
      "memory usage: 679.2 MB\n"
     ]
    }
   ],
   "source": [
    "df_train.info(memory_usage='deep')"
   ]
  },
  {
   "cell_type": "code",
   "execution_count": 6,
   "metadata": {},
   "outputs": [
    {
     "name": "stdout",
     "output_type": "stream",
     "text": [
      "Average memory usage for float columns: 5.66 MB\n",
      "Average memory usage for int columns: 8.48 MB\n",
      "Average memory usage for object columns: 126.79 MB\n"
     ]
    }
   ],
   "source": [
    "def get_type_wise_memoryinfo(df):\n",
    "    for dtype in ['float','int','object']:\n",
    "        selected_dtype = df.select_dtypes(include=[dtype])\n",
    "        mean_usage_b = selected_dtype.memory_usage(deep=True).mean()\n",
    "        mean_usage_mb = mean_usage_b / 1024 ** 2\n",
    "        print(\"Average memory usage for {} columns: {:03.2f} MB\".format(dtype,mean_usage_mb))\n",
    "\n",
    "get_type_wise_memoryinfo(df_train)"
   ]
  },
  {
   "cell_type": "code",
   "execution_count": 186,
   "metadata": {},
   "outputs": [
    {
     "data": {
      "text/html": [
       "<div>\n",
       "<style>\n",
       "    .dataframe thead tr:only-child th {\n",
       "        text-align: right;\n",
       "    }\n",
       "\n",
       "    .dataframe thead th {\n",
       "        text-align: left;\n",
       "    }\n",
       "\n",
       "    .dataframe tbody tr th {\n",
       "        vertical-align: top;\n",
       "    }\n",
       "</style>\n",
       "<table border=\"1\" class=\"dataframe\">\n",
       "  <thead>\n",
       "    <tr style=\"text-align: right;\">\n",
       "      <th></th>\n",
       "      <th>name</th>\n",
       "      <th>category_name</th>\n",
       "      <th>brand_name</th>\n",
       "      <th>item_description</th>\n",
       "      <th>root_cat</th>\n",
       "      <th>sub_cat1</th>\n",
       "      <th>sub_cat2</th>\n",
       "    </tr>\n",
       "  </thead>\n",
       "  <tbody>\n",
       "    <tr>\n",
       "      <th>count</th>\n",
       "      <td>1482535</td>\n",
       "      <td>1482535</td>\n",
       "      <td>1482535</td>\n",
       "      <td>1482535</td>\n",
       "      <td>1482535</td>\n",
       "      <td>1482535</td>\n",
       "      <td>1482535</td>\n",
       "    </tr>\n",
       "    <tr>\n",
       "      <th>unique</th>\n",
       "      <td>1225273</td>\n",
       "      <td>1288</td>\n",
       "      <td>4810</td>\n",
       "      <td>1281427</td>\n",
       "      <td>11</td>\n",
       "      <td>114</td>\n",
       "      <td>865</td>\n",
       "    </tr>\n",
       "    <tr>\n",
       "      <th>top</th>\n",
       "      <td>Bundle</td>\n",
       "      <td>Women/Athletic Apparel/Pants, Tights, Leggings</td>\n",
       "      <td>missing</td>\n",
       "      <td>No description yet</td>\n",
       "      <td>Women</td>\n",
       "      <td>Athletic Apparel</td>\n",
       "      <td>Pants, Tights, Leggings</td>\n",
       "    </tr>\n",
       "    <tr>\n",
       "      <th>freq</th>\n",
       "      <td>2232</td>\n",
       "      <td>60177</td>\n",
       "      <td>632682</td>\n",
       "      <td>82489</td>\n",
       "      <td>664385</td>\n",
       "      <td>134383</td>\n",
       "      <td>60177</td>\n",
       "    </tr>\n",
       "  </tbody>\n",
       "</table>\n",
       "</div>"
      ],
      "text/plain": [
       "           name                                   category_name brand_name  \\\n",
       "count   1482535                                         1482535    1482535   \n",
       "unique  1225273                                            1288       4810   \n",
       "top      Bundle  Women/Athletic Apparel/Pants, Tights, Leggings    missing   \n",
       "freq       2232                                           60177     632682   \n",
       "\n",
       "          item_description root_cat          sub_cat1                 sub_cat2  \n",
       "count              1482535  1482535           1482535                  1482535  \n",
       "unique             1281427       11               114                      865  \n",
       "top     No description yet    Women  Athletic Apparel  Pants, Tights, Leggings  \n",
       "freq                 82489   664385            134383                    60177  "
      ]
     },
     "execution_count": 186,
     "metadata": {},
     "output_type": "execute_result"
    }
   ],
   "source": [
    "gl_obj = df_train.select_dtypes(include=['object']).copy()\n",
    "gl_obj.describe()"
   ]
  },
  {
   "cell_type": "markdown",
   "metadata": {},
   "source": [
    "### Check if both test and train have the same shape"
   ]
  },
  {
   "cell_type": "code",
   "execution_count": 7,
   "metadata": {},
   "outputs": [
    {
     "name": "stdout",
     "output_type": "stream",
     "text": [
      "Training data shape: (1482535, 8)\n",
      "Testing data shape: (693359, 7)\n"
     ]
    }
   ],
   "source": [
    "print('Training data shape: {}'.format(df_train.shape))\n",
    "print('Testing data shape: {}'.format(df_test.shape))"
   ]
  },
  {
   "cell_type": "markdown",
   "metadata": {},
   "source": [
    "### Check if there are any missing values"
   ]
  },
  {
   "cell_type": "code",
   "execution_count": 8,
   "metadata": {},
   "outputs": [
    {
     "name": "stdout",
     "output_type": "stream",
     "text": [
      "Is null on train: True\n",
      "Is null on test: True\n"
     ]
    }
   ],
   "source": [
    "print('Is null on train: {}'.format(df_train.isnull().any().any()))\n",
    "print('Is null on test: {}'.format(df_test.isnull().any().any()))"
   ]
  },
  {
   "cell_type": "code",
   "execution_count": 9,
   "metadata": {
    "collapsed": true
   },
   "outputs": [],
   "source": [
    "def handle_missing_data(dataset):\n",
    "    dataset['name'].fillna(value='missing', inplace=True)\n",
    "    dataset['category_name'].fillna(value='missing', inplace=True)\n",
    "    dataset['brand_name'].fillna(value='missing', inplace=True)\n",
    "    dataset['item_description'].fillna(value='missing', inplace=True)\n",
    "    dataset[\"shipping\"] = dataset[\"shipping\"].fillna(0)"
   ]
  },
  {
   "cell_type": "code",
   "execution_count": 10,
   "metadata": {
    "collapsed": true
   },
   "outputs": [],
   "source": [
    "handle_missing_data(df_train)\n",
    "handle_missing_data(df_test)"
   ]
  },
  {
   "cell_type": "code",
   "execution_count": 11,
   "metadata": {},
   "outputs": [
    {
     "name": "stdout",
     "output_type": "stream",
     "text": [
      "Is null on train: False\n",
      "Is null on test: False\n"
     ]
    }
   ],
   "source": [
    "print('Is null on train: {}'.format(df_train.isnull().any().any()))\n",
    "print('Is null on test: {}'.format(df_test.isnull().any().any()))"
   ]
  },
  {
   "cell_type": "markdown",
   "metadata": {},
   "source": [
    "### Descriptive statistics"
   ]
  },
  {
   "cell_type": "code",
   "execution_count": 12,
   "metadata": {},
   "outputs": [
    {
     "data": {
      "text/html": [
       "<div>\n",
       "<style>\n",
       "    .dataframe thead tr:only-child th {\n",
       "        text-align: right;\n",
       "    }\n",
       "\n",
       "    .dataframe thead th {\n",
       "        text-align: left;\n",
       "    }\n",
       "\n",
       "    .dataframe tbody tr th {\n",
       "        vertical-align: top;\n",
       "    }\n",
       "</style>\n",
       "<table border=\"1\" class=\"dataframe\">\n",
       "  <thead>\n",
       "    <tr style=\"text-align: right;\">\n",
       "      <th></th>\n",
       "      <th>train_id</th>\n",
       "      <th>item_condition_id</th>\n",
       "      <th>price</th>\n",
       "      <th>shipping</th>\n",
       "    </tr>\n",
       "  </thead>\n",
       "  <tbody>\n",
       "    <tr>\n",
       "      <th>count</th>\n",
       "      <td>1.482535e+06</td>\n",
       "      <td>1.482535e+06</td>\n",
       "      <td>1.482535e+06</td>\n",
       "      <td>1.482535e+06</td>\n",
       "    </tr>\n",
       "    <tr>\n",
       "      <th>mean</th>\n",
       "      <td>7.412670e+05</td>\n",
       "      <td>1.907380e+00</td>\n",
       "      <td>2.673752e+01</td>\n",
       "      <td>4.472744e-01</td>\n",
       "    </tr>\n",
       "    <tr>\n",
       "      <th>std</th>\n",
       "      <td>4.279711e+05</td>\n",
       "      <td>9.031586e-01</td>\n",
       "      <td>3.858607e+01</td>\n",
       "      <td>4.972124e-01</td>\n",
       "    </tr>\n",
       "    <tr>\n",
       "      <th>min</th>\n",
       "      <td>0.000000e+00</td>\n",
       "      <td>1.000000e+00</td>\n",
       "      <td>0.000000e+00</td>\n",
       "      <td>0.000000e+00</td>\n",
       "    </tr>\n",
       "    <tr>\n",
       "      <th>25%</th>\n",
       "      <td>3.706335e+05</td>\n",
       "      <td>1.000000e+00</td>\n",
       "      <td>1.000000e+01</td>\n",
       "      <td>0.000000e+00</td>\n",
       "    </tr>\n",
       "    <tr>\n",
       "      <th>50%</th>\n",
       "      <td>7.412670e+05</td>\n",
       "      <td>2.000000e+00</td>\n",
       "      <td>1.700000e+01</td>\n",
       "      <td>0.000000e+00</td>\n",
       "    </tr>\n",
       "    <tr>\n",
       "      <th>75%</th>\n",
       "      <td>1.111900e+06</td>\n",
       "      <td>3.000000e+00</td>\n",
       "      <td>2.900000e+01</td>\n",
       "      <td>1.000000e+00</td>\n",
       "    </tr>\n",
       "    <tr>\n",
       "      <th>max</th>\n",
       "      <td>1.482534e+06</td>\n",
       "      <td>5.000000e+00</td>\n",
       "      <td>2.009000e+03</td>\n",
       "      <td>1.000000e+00</td>\n",
       "    </tr>\n",
       "  </tbody>\n",
       "</table>\n",
       "</div>"
      ],
      "text/plain": [
       "           train_id  item_condition_id         price      shipping\n",
       "count  1.482535e+06       1.482535e+06  1.482535e+06  1.482535e+06\n",
       "mean   7.412670e+05       1.907380e+00  2.673752e+01  4.472744e-01\n",
       "std    4.279711e+05       9.031586e-01  3.858607e+01  4.972124e-01\n",
       "min    0.000000e+00       1.000000e+00  0.000000e+00  0.000000e+00\n",
       "25%    3.706335e+05       1.000000e+00  1.000000e+01  0.000000e+00\n",
       "50%    7.412670e+05       2.000000e+00  1.700000e+01  0.000000e+00\n",
       "75%    1.111900e+06       3.000000e+00  2.900000e+01  1.000000e+00\n",
       "max    1.482534e+06       5.000000e+00  2.009000e+03  1.000000e+00"
      ]
     },
     "execution_count": 12,
     "metadata": {},
     "output_type": "execute_result"
    }
   ],
   "source": [
    "df_train.describe()"
   ]
  },
  {
   "cell_type": "code",
   "execution_count": 13,
   "metadata": {},
   "outputs": [
    {
     "data": {
      "text/html": [
       "<div>\n",
       "<style>\n",
       "    .dataframe thead tr:only-child th {\n",
       "        text-align: right;\n",
       "    }\n",
       "\n",
       "    .dataframe thead th {\n",
       "        text-align: left;\n",
       "    }\n",
       "\n",
       "    .dataframe tbody tr th {\n",
       "        vertical-align: top;\n",
       "    }\n",
       "</style>\n",
       "<table border=\"1\" class=\"dataframe\">\n",
       "  <thead>\n",
       "    <tr style=\"text-align: right;\">\n",
       "      <th></th>\n",
       "      <th>train_id</th>\n",
       "      <th>name</th>\n",
       "      <th>item_condition_id</th>\n",
       "      <th>category_name</th>\n",
       "      <th>brand_name</th>\n",
       "      <th>price</th>\n",
       "      <th>shipping</th>\n",
       "      <th>item_description</th>\n",
       "    </tr>\n",
       "  </thead>\n",
       "  <tbody>\n",
       "    <tr>\n",
       "      <th>0</th>\n",
       "      <td>0</td>\n",
       "      <td>MLB Cincinnati Reds T Shirt Size XL</td>\n",
       "      <td>3</td>\n",
       "      <td>Men/Tops/T-shirts</td>\n",
       "      <td>missing</td>\n",
       "      <td>10.0</td>\n",
       "      <td>1</td>\n",
       "      <td>No description yet</td>\n",
       "    </tr>\n",
       "    <tr>\n",
       "      <th>1</th>\n",
       "      <td>1</td>\n",
       "      <td>Razer BlackWidow Chroma Keyboard</td>\n",
       "      <td>3</td>\n",
       "      <td>Electronics/Computers &amp; Tablets/Components &amp; P...</td>\n",
       "      <td>Razer</td>\n",
       "      <td>52.0</td>\n",
       "      <td>0</td>\n",
       "      <td>This keyboard is in great condition and works ...</td>\n",
       "    </tr>\n",
       "    <tr>\n",
       "      <th>2</th>\n",
       "      <td>2</td>\n",
       "      <td>AVA-VIV Blouse</td>\n",
       "      <td>1</td>\n",
       "      <td>Women/Tops &amp; Blouses/Blouse</td>\n",
       "      <td>Target</td>\n",
       "      <td>10.0</td>\n",
       "      <td>1</td>\n",
       "      <td>Adorable top with a hint of lace and a key hol...</td>\n",
       "    </tr>\n",
       "    <tr>\n",
       "      <th>3</th>\n",
       "      <td>3</td>\n",
       "      <td>Leather Horse Statues</td>\n",
       "      <td>1</td>\n",
       "      <td>Home/Home Décor/Home Décor Accents</td>\n",
       "      <td>missing</td>\n",
       "      <td>35.0</td>\n",
       "      <td>1</td>\n",
       "      <td>New with tags. Leather horses. Retail for [rm]...</td>\n",
       "    </tr>\n",
       "    <tr>\n",
       "      <th>4</th>\n",
       "      <td>4</td>\n",
       "      <td>24K GOLD plated rose</td>\n",
       "      <td>1</td>\n",
       "      <td>Women/Jewelry/Necklaces</td>\n",
       "      <td>missing</td>\n",
       "      <td>44.0</td>\n",
       "      <td>0</td>\n",
       "      <td>Complete with certificate of authenticity</td>\n",
       "    </tr>\n",
       "  </tbody>\n",
       "</table>\n",
       "</div>"
      ],
      "text/plain": [
       "   train_id                                 name  item_condition_id  \\\n",
       "0         0  MLB Cincinnati Reds T Shirt Size XL                  3   \n",
       "1         1     Razer BlackWidow Chroma Keyboard                  3   \n",
       "2         2                       AVA-VIV Blouse                  1   \n",
       "3         3                Leather Horse Statues                  1   \n",
       "4         4                 24K GOLD plated rose                  1   \n",
       "\n",
       "                                       category_name brand_name  price  \\\n",
       "0                                  Men/Tops/T-shirts    missing   10.0   \n",
       "1  Electronics/Computers & Tablets/Components & P...      Razer   52.0   \n",
       "2                        Women/Tops & Blouses/Blouse     Target   10.0   \n",
       "3                 Home/Home Décor/Home Décor Accents    missing   35.0   \n",
       "4                            Women/Jewelry/Necklaces    missing   44.0   \n",
       "\n",
       "   shipping                                   item_description  \n",
       "0         1                                 No description yet  \n",
       "1         0  This keyboard is in great condition and works ...  \n",
       "2         1  Adorable top with a hint of lace and a key hol...  \n",
       "3         1  New with tags. Leather horses. Retail for [rm]...  \n",
       "4         0          Complete with certificate of authenticity  "
      ]
     },
     "execution_count": 13,
     "metadata": {},
     "output_type": "execute_result"
    }
   ],
   "source": [
    "df_train.head()"
   ]
  },
  {
   "cell_type": "markdown",
   "metadata": {},
   "source": [
    "### work on category_name feature"
   ]
  },
  {
   "cell_type": "code",
   "execution_count": 14,
   "metadata": {
    "collapsed": true
   },
   "outputs": [],
   "source": [
    "def split_category(text):\n",
    "    try: \n",
    "        arr = text.split('/')\n",
    "        if len(arr) == 3:\n",
    "            return arr\n",
    "        else:\n",
    "            return ['No Label', 'No Label', 'No Label']\n",
    "    except: return ['No Label', 'No Label', 'No Label']\n",
    "     \n",
    "df_train['root_cat'], df_train['sub_cat1'], df_train['sub_cat2'] = \\\n",
    "zip(*df_train['category_name'].apply(lambda x : split_category(x) ))\n",
    "\n",
    "df_test['root_cat'], df_test['sub_cat1'], df_test['sub_cat2'] = \\\n",
    "zip(*df_test['category_name'].apply(lambda x : split_category(x) ))"
   ]
  },
  {
   "cell_type": "markdown",
   "metadata": {},
   "source": [
    "## Copy original data"
   ]
  },
  {
   "cell_type": "code",
   "execution_count": 15,
   "metadata": {
    "collapsed": true
   },
   "outputs": [],
   "source": [
    "df_train_new = df_train.copy()\n",
    "df_test_new = df_test.copy()"
   ]
  },
  {
   "cell_type": "markdown",
   "metadata": {},
   "source": [
    "## Add brand average price as a new feature"
   ]
  },
  {
   "cell_type": "code",
   "execution_count": 16,
   "metadata": {
    "collapsed": true
   },
   "outputs": [],
   "source": [
    "def create_price_feature(df_train, df_test, features, stat):\n",
    "    for feature in features:\n",
    "        new_feature = str(feature) +'_'+ str(stat) +'_price'\n",
    "        price_desc = df_train['price'].groupby(df_train[feature]).describe()\n",
    "        feature_name, feature_price = zip(*sorted(dict(price_desc[stat]).items(), key=lambda x: x[1]))\n",
    "        aa = np.column_stack((feature_name, np.log1p(feature_price)))\n",
    "        df_feature_price = pd.DataFrame(aa, columns=[feature, new_feature])\n",
    "        \n",
    "        df_train = pd.merge(df_train, df_feature_price, on=feature, how='left')\n",
    "        df_test = pd.merge(df_test, df_feature_price, on=feature, how='left')\n",
    "    \n",
    "    return df_train, df_test"
   ]
  },
  {
   "cell_type": "code",
   "execution_count": 17,
   "metadata": {
    "collapsed": true
   },
   "outputs": [],
   "source": [
    "features = ['brand_name', 'root_cat']\n",
    "df_train_new, df_test_new = create_price_feature(df_train_new, df_test_new, features, 'mean')\n",
    "df_train_new, df_test_new = create_price_feature(df_train_new, df_test_new, features, 'max')"
   ]
  },
  {
   "cell_type": "code",
   "execution_count": 18,
   "metadata": {},
   "outputs": [
    {
     "data": {
      "text/html": [
       "<div>\n",
       "<style>\n",
       "    .dataframe thead tr:only-child th {\n",
       "        text-align: right;\n",
       "    }\n",
       "\n",
       "    .dataframe thead th {\n",
       "        text-align: left;\n",
       "    }\n",
       "\n",
       "    .dataframe tbody tr th {\n",
       "        vertical-align: top;\n",
       "    }\n",
       "</style>\n",
       "<table border=\"1\" class=\"dataframe\">\n",
       "  <thead>\n",
       "    <tr style=\"text-align: right;\">\n",
       "      <th></th>\n",
       "      <th>train_id</th>\n",
       "      <th>name</th>\n",
       "      <th>item_condition_id</th>\n",
       "      <th>category_name</th>\n",
       "      <th>brand_name</th>\n",
       "      <th>price</th>\n",
       "      <th>shipping</th>\n",
       "      <th>item_description</th>\n",
       "      <th>root_cat</th>\n",
       "      <th>sub_cat1</th>\n",
       "      <th>sub_cat2</th>\n",
       "      <th>brand_name_mean_price</th>\n",
       "      <th>root_cat_mean_price</th>\n",
       "      <th>brand_name_max_price</th>\n",
       "      <th>root_cat_max_price</th>\n",
       "    </tr>\n",
       "  </thead>\n",
       "  <tbody>\n",
       "    <tr>\n",
       "      <th>0</th>\n",
       "      <td>0</td>\n",
       "      <td>MLB Cincinnati Reds T Shirt Size XL</td>\n",
       "      <td>3</td>\n",
       "      <td>Men/Tops/T-shirts</td>\n",
       "      <td>missing</td>\n",
       "      <td>10.0</td>\n",
       "      <td>1</td>\n",
       "      <td>No description yet</td>\n",
       "      <td>Men</td>\n",
       "      <td>Tops</td>\n",
       "      <td>T-shirts</td>\n",
       "      <td>3.097090187926711</td>\n",
       "      <td>3.5749643260905146</td>\n",
       "      <td>7.601402334583733</td>\n",
       "      <td>7.177782416195197</td>\n",
       "    </tr>\n",
       "    <tr>\n",
       "      <th>1</th>\n",
       "      <td>1</td>\n",
       "      <td>Razer BlackWidow Chroma Keyboard</td>\n",
       "      <td>3</td>\n",
       "      <td>Electronics/Computers &amp; Tablets/Components &amp; P...</td>\n",
       "      <td>Razer</td>\n",
       "      <td>52.0</td>\n",
       "      <td>0</td>\n",
       "      <td>This keyboard is in great condition and works ...</td>\n",
       "      <td>Electronics</td>\n",
       "      <td>Computers &amp; Tablets</td>\n",
       "      <td>Components &amp; Parts</td>\n",
       "      <td>3.829103824243</td>\n",
       "      <td>3.5608122159383107</td>\n",
       "      <td>5.017279836814924</td>\n",
       "      <td>7.554858521040676</td>\n",
       "    </tr>\n",
       "    <tr>\n",
       "      <th>2</th>\n",
       "      <td>2</td>\n",
       "      <td>AVA-VIV Blouse</td>\n",
       "      <td>1</td>\n",
       "      <td>Women/Tops &amp; Blouses/Blouse</td>\n",
       "      <td>Target</td>\n",
       "      <td>10.0</td>\n",
       "      <td>1</td>\n",
       "      <td>Adorable top with a hint of lace and a key hol...</td>\n",
       "      <td>Women</td>\n",
       "      <td>Tops &amp; Blouses</td>\n",
       "      <td>Blouse</td>\n",
       "      <td>2.7755287216847355</td>\n",
       "      <td>3.3973732660008733</td>\n",
       "      <td>5.288267030694535</td>\n",
       "      <td>7.605890001053122</td>\n",
       "    </tr>\n",
       "    <tr>\n",
       "      <th>3</th>\n",
       "      <td>3</td>\n",
       "      <td>Leather Horse Statues</td>\n",
       "      <td>1</td>\n",
       "      <td>Home/Home Décor/Home Décor Accents</td>\n",
       "      <td>missing</td>\n",
       "      <td>35.0</td>\n",
       "      <td>1</td>\n",
       "      <td>New with tags. Leather horses. Retail for [rm]...</td>\n",
       "      <td>Home</td>\n",
       "      <td>Home Décor</td>\n",
       "      <td>Home Décor Accents</td>\n",
       "      <td>3.097090187926711</td>\n",
       "      <td>3.240112671882182</td>\n",
       "      <td>7.601402334583733</td>\n",
       "      <td>6.744059186311348</td>\n",
       "    </tr>\n",
       "    <tr>\n",
       "      <th>4</th>\n",
       "      <td>4</td>\n",
       "      <td>24K GOLD plated rose</td>\n",
       "      <td>1</td>\n",
       "      <td>Women/Jewelry/Necklaces</td>\n",
       "      <td>missing</td>\n",
       "      <td>44.0</td>\n",
       "      <td>0</td>\n",
       "      <td>Complete with certificate of authenticity</td>\n",
       "      <td>Women</td>\n",
       "      <td>Jewelry</td>\n",
       "      <td>Necklaces</td>\n",
       "      <td>3.097090187926711</td>\n",
       "      <td>3.3973732660008733</td>\n",
       "      <td>7.601402334583733</td>\n",
       "      <td>7.605890001053122</td>\n",
       "    </tr>\n",
       "  </tbody>\n",
       "</table>\n",
       "</div>"
      ],
      "text/plain": [
       "   train_id                                 name  item_condition_id  \\\n",
       "0         0  MLB Cincinnati Reds T Shirt Size XL                  3   \n",
       "1         1     Razer BlackWidow Chroma Keyboard                  3   \n",
       "2         2                       AVA-VIV Blouse                  1   \n",
       "3         3                Leather Horse Statues                  1   \n",
       "4         4                 24K GOLD plated rose                  1   \n",
       "\n",
       "                                       category_name brand_name  price  \\\n",
       "0                                  Men/Tops/T-shirts    missing   10.0   \n",
       "1  Electronics/Computers & Tablets/Components & P...      Razer   52.0   \n",
       "2                        Women/Tops & Blouses/Blouse     Target   10.0   \n",
       "3                 Home/Home Décor/Home Décor Accents    missing   35.0   \n",
       "4                            Women/Jewelry/Necklaces    missing   44.0   \n",
       "\n",
       "   shipping                                   item_description     root_cat  \\\n",
       "0         1                                 No description yet          Men   \n",
       "1         0  This keyboard is in great condition and works ...  Electronics   \n",
       "2         1  Adorable top with a hint of lace and a key hol...        Women   \n",
       "3         1  New with tags. Leather horses. Retail for [rm]...         Home   \n",
       "4         0          Complete with certificate of authenticity        Women   \n",
       "\n",
       "              sub_cat1            sub_cat2 brand_name_mean_price  \\\n",
       "0                 Tops            T-shirts     3.097090187926711   \n",
       "1  Computers & Tablets  Components & Parts        3.829103824243   \n",
       "2       Tops & Blouses              Blouse    2.7755287216847355   \n",
       "3           Home Décor  Home Décor Accents     3.097090187926711   \n",
       "4              Jewelry           Necklaces     3.097090187926711   \n",
       "\n",
       "  root_cat_mean_price brand_name_max_price root_cat_max_price  \n",
       "0  3.5749643260905146    7.601402334583733  7.177782416195197  \n",
       "1  3.5608122159383107    5.017279836814924  7.554858521040676  \n",
       "2  3.3973732660008733    5.288267030694535  7.605890001053122  \n",
       "3   3.240112671882182    7.601402334583733  6.744059186311348  \n",
       "4  3.3973732660008733    7.601402334583733  7.605890001053122  "
      ]
     },
     "execution_count": 18,
     "metadata": {},
     "output_type": "execute_result"
    }
   ],
   "source": [
    "df_train_new.head()"
   ]
  },
  {
   "cell_type": "code",
   "execution_count": 19,
   "metadata": {},
   "outputs": [
    {
     "name": "stdout",
     "output_type": "stream",
     "text": [
      "Is null on train: False\n",
      "Is null on train: True\n"
     ]
    }
   ],
   "source": [
    "print('Is null on train: {}'.format(df_train_new.isnull().any().any()))\n",
    "print('Is null on train: {}'.format(df_test_new.isnull().any().any()))"
   ]
  },
  {
   "cell_type": "code",
   "execution_count": 20,
   "metadata": {
    "collapsed": true
   },
   "outputs": [],
   "source": [
    "df_test_new['brand_name_mean_price'].fillna(value=0.0, inplace=True)\n",
    "df_test_new['root_cat_mean_price'].fillna(value=0.0, inplace=True)\n",
    "df_test_new['brand_name_max_price'].fillna(value=0.0, inplace=True)\n",
    "df_test_new['root_cat_max_price'].fillna(value=0.0, inplace=True)"
   ]
  },
  {
   "cell_type": "code",
   "execution_count": 21,
   "metadata": {},
   "outputs": [
    {
     "name": "stdout",
     "output_type": "stream",
     "text": [
      "Is null on train: False\n"
     ]
    }
   ],
   "source": [
    "print('Is null on train: {}'.format(df_test_new.isnull().any().any()))"
   ]
  },
  {
   "cell_type": "markdown",
   "metadata": {},
   "source": [
    "## Label Encoding"
   ]
  },
  {
   "cell_type": "code",
   "execution_count": 22,
   "metadata": {
    "collapsed": true
   },
   "outputs": [],
   "source": [
    "from sklearn.preprocessing import LabelEncoder, MinMaxScaler, StandardScaler\n",
    "\n",
    "def label_encode(features):\n",
    "    for feature in features:\n",
    "        le = LabelEncoder()\n",
    "        le.fit(np.hstack([df_train_new[feature], df_test_new[feature]]))\n",
    "        df_train_new[feature] = le.transform(df_train_new[feature])\n",
    "        df_test_new[feature] = le.transform(df_test_new[feature])\n",
    "        del le"
   ]
  },
  {
   "cell_type": "code",
   "execution_count": 23,
   "metadata": {
    "collapsed": true
   },
   "outputs": [],
   "source": [
    "encoded_features = ['root_cat', 'sub_cat1', 'sub_cat2', 'brand_name']\n",
    "label_encode(encoded_features)"
   ]
  },
  {
   "cell_type": "code",
   "execution_count": 24,
   "metadata": {},
   "outputs": [
    {
     "data": {
      "text/plain": [
       "['train_id',\n",
       " 'name',\n",
       " 'item_condition_id',\n",
       " 'category_name',\n",
       " 'brand_name',\n",
       " 'price',\n",
       " 'shipping',\n",
       " 'item_description',\n",
       " 'root_cat',\n",
       " 'sub_cat1',\n",
       " 'sub_cat2',\n",
       " 'brand_name_mean_price',\n",
       " 'root_cat_mean_price',\n",
       " 'brand_name_max_price',\n",
       " 'root_cat_max_price']"
      ]
     },
     "execution_count": 24,
     "metadata": {},
     "output_type": "execute_result"
    }
   ],
   "source": [
    "list(df_train_new)"
   ]
  },
  {
   "cell_type": "markdown",
   "metadata": {},
   "source": [
    "## Text processing \"name\" + \"item_description\" + \"category_name\""
   ]
  },
  {
   "cell_type": "code",
   "execution_count": 26,
   "metadata": {
    "collapsed": true
   },
   "outputs": [],
   "source": [
    "import re\n",
    "\n",
    "def cleanName(text):\n",
    "    try:\n",
    "        textProc = text.lower()\n",
    "        textProc = \" \".join(map(str.strip, re.split('(\\d+)',textProc)))\n",
    "        regex = re.compile(u'[^A-Za-z0-9]+')\n",
    "        textProc = regex.sub(\" \", textProc)\n",
    "        textProc = \" \".join(textProc.split())\n",
    "        \n",
    "        return textProc\n",
    "    except: \n",
    "        return \"name error\""
   ]
  },
  {
   "cell_type": "code",
   "execution_count": 27,
   "metadata": {},
   "outputs": [],
   "source": [
    "df_train_new['name']               = df_train_new['name'].apply(lambda x: cleanName(x))\n",
    "df_train_new[\"item_description\"]   = df_train_new[\"item_description\"].apply(lambda x: cleanName(x))\n",
    "df_train_new['category_name']      = df_train_new['category_name'].apply(lambda x: cleanName(x))"
   ]
  },
  {
   "cell_type": "code",
   "execution_count": 28,
   "metadata": {
    "collapsed": true
   },
   "outputs": [],
   "source": [
    "df_test_new['name']               = df_test_new['name'].apply(lambda x: cleanName(x))\n",
    "df_test_new[\"item_description\"]   = df_test_new[\"item_description\"].apply(lambda x: cleanName(x))\n",
    "df_test_new['category_name']      = df_test_new['category_name'].apply(lambda x: cleanName(x))"
   ]
  },
  {
   "cell_type": "code",
   "execution_count": 29,
   "metadata": {},
   "outputs": [
    {
     "data": {
      "text/html": [
       "<div>\n",
       "<style>\n",
       "    .dataframe thead tr:only-child th {\n",
       "        text-align: right;\n",
       "    }\n",
       "\n",
       "    .dataframe thead th {\n",
       "        text-align: left;\n",
       "    }\n",
       "\n",
       "    .dataframe tbody tr th {\n",
       "        vertical-align: top;\n",
       "    }\n",
       "</style>\n",
       "<table border=\"1\" class=\"dataframe\">\n",
       "  <thead>\n",
       "    <tr style=\"text-align: right;\">\n",
       "      <th></th>\n",
       "      <th>train_id</th>\n",
       "      <th>name</th>\n",
       "      <th>item_condition_id</th>\n",
       "      <th>category_name</th>\n",
       "      <th>brand_name</th>\n",
       "      <th>price</th>\n",
       "      <th>shipping</th>\n",
       "      <th>item_description</th>\n",
       "      <th>root_cat</th>\n",
       "      <th>sub_cat1</th>\n",
       "      <th>sub_cat2</th>\n",
       "      <th>brand_name_mean_price</th>\n",
       "      <th>root_cat_mean_price</th>\n",
       "      <th>brand_name_max_price</th>\n",
       "      <th>root_cat_max_price</th>\n",
       "    </tr>\n",
       "  </thead>\n",
       "  <tbody>\n",
       "    <tr>\n",
       "      <th>0</th>\n",
       "      <td>0</td>\n",
       "      <td>mlb cincinnati reds t shirt size xl</td>\n",
       "      <td>3</td>\n",
       "      <td>men tops t shirts</td>\n",
       "      <td>5265</td>\n",
       "      <td>10.0</td>\n",
       "      <td>1</td>\n",
       "      <td>no description yet</td>\n",
       "      <td>5</td>\n",
       "      <td>103</td>\n",
       "      <td>770</td>\n",
       "      <td>3.097090187926711</td>\n",
       "      <td>3.5749643260905146</td>\n",
       "      <td>7.601402334583733</td>\n",
       "      <td>7.177782416195197</td>\n",
       "    </tr>\n",
       "    <tr>\n",
       "      <th>1</th>\n",
       "      <td>1</td>\n",
       "      <td>razer blackwidow chroma keyboard</td>\n",
       "      <td>3</td>\n",
       "      <td>electronics computers tablets components parts</td>\n",
       "      <td>3889</td>\n",
       "      <td>52.0</td>\n",
       "      <td>0</td>\n",
       "      <td>this keyboard is in great condition and works ...</td>\n",
       "      <td>1</td>\n",
       "      <td>30</td>\n",
       "      <td>215</td>\n",
       "      <td>3.829103824243</td>\n",
       "      <td>3.5608122159383107</td>\n",
       "      <td>5.017279836814924</td>\n",
       "      <td>7.554858521040676</td>\n",
       "    </tr>\n",
       "    <tr>\n",
       "      <th>2</th>\n",
       "      <td>2</td>\n",
       "      <td>ava viv blouse</td>\n",
       "      <td>1</td>\n",
       "      <td>women tops blouses blouse</td>\n",
       "      <td>4588</td>\n",
       "      <td>10.0</td>\n",
       "      <td>1</td>\n",
       "      <td>adorable top with a hint of lace and a key hol...</td>\n",
       "      <td>10</td>\n",
       "      <td>104</td>\n",
       "      <td>97</td>\n",
       "      <td>2.7755287216847355</td>\n",
       "      <td>3.3973732660008733</td>\n",
       "      <td>5.288267030694535</td>\n",
       "      <td>7.605890001053122</td>\n",
       "    </tr>\n",
       "    <tr>\n",
       "      <th>3</th>\n",
       "      <td>3</td>\n",
       "      <td>leather horse statues</td>\n",
       "      <td>1</td>\n",
       "      <td>home home d cor home d cor accents</td>\n",
       "      <td>5265</td>\n",
       "      <td>35.0</td>\n",
       "      <td>1</td>\n",
       "      <td>new with tags leather horses retail for rm eac...</td>\n",
       "      <td>3</td>\n",
       "      <td>55</td>\n",
       "      <td>407</td>\n",
       "      <td>3.097090187926711</td>\n",
       "      <td>3.240112671882182</td>\n",
       "      <td>7.601402334583733</td>\n",
       "      <td>6.744059186311348</td>\n",
       "    </tr>\n",
       "    <tr>\n",
       "      <th>4</th>\n",
       "      <td>4</td>\n",
       "      <td>24 k gold plated rose</td>\n",
       "      <td>1</td>\n",
       "      <td>women jewelry necklaces</td>\n",
       "      <td>5265</td>\n",
       "      <td>44.0</td>\n",
       "      <td>0</td>\n",
       "      <td>complete with certificate of authenticity</td>\n",
       "      <td>10</td>\n",
       "      <td>58</td>\n",
       "      <td>538</td>\n",
       "      <td>3.097090187926711</td>\n",
       "      <td>3.3973732660008733</td>\n",
       "      <td>7.601402334583733</td>\n",
       "      <td>7.605890001053122</td>\n",
       "    </tr>\n",
       "  </tbody>\n",
       "</table>\n",
       "</div>"
      ],
      "text/plain": [
       "   train_id                                 name  item_condition_id  \\\n",
       "0         0  mlb cincinnati reds t shirt size xl                  3   \n",
       "1         1     razer blackwidow chroma keyboard                  3   \n",
       "2         2                       ava viv blouse                  1   \n",
       "3         3                leather horse statues                  1   \n",
       "4         4                24 k gold plated rose                  1   \n",
       "\n",
       "                                    category_name  brand_name  price  \\\n",
       "0                               men tops t shirts        5265   10.0   \n",
       "1  electronics computers tablets components parts        3889   52.0   \n",
       "2                       women tops blouses blouse        4588   10.0   \n",
       "3              home home d cor home d cor accents        5265   35.0   \n",
       "4                         women jewelry necklaces        5265   44.0   \n",
       "\n",
       "   shipping                                   item_description  root_cat  \\\n",
       "0         1                                 no description yet         5   \n",
       "1         0  this keyboard is in great condition and works ...         1   \n",
       "2         1  adorable top with a hint of lace and a key hol...        10   \n",
       "3         1  new with tags leather horses retail for rm eac...         3   \n",
       "4         0          complete with certificate of authenticity        10   \n",
       "\n",
       "   sub_cat1  sub_cat2 brand_name_mean_price root_cat_mean_price  \\\n",
       "0       103       770     3.097090187926711  3.5749643260905146   \n",
       "1        30       215        3.829103824243  3.5608122159383107   \n",
       "2       104        97    2.7755287216847355  3.3973732660008733   \n",
       "3        55       407     3.097090187926711   3.240112671882182   \n",
       "4        58       538     3.097090187926711  3.3973732660008733   \n",
       "\n",
       "  brand_name_max_price root_cat_max_price  \n",
       "0    7.601402334583733  7.177782416195197  \n",
       "1    5.017279836814924  7.554858521040676  \n",
       "2    5.288267030694535  7.605890001053122  \n",
       "3    7.601402334583733  6.744059186311348  \n",
       "4    7.601402334583733  7.605890001053122  "
      ]
     },
     "execution_count": 29,
     "metadata": {},
     "output_type": "execute_result"
    }
   ],
   "source": [
    "df_train_new.head(5)"
   ]
  },
  {
   "cell_type": "markdown",
   "metadata": {},
   "source": [
    "## Categories to dummies"
   ]
  },
  {
   "cell_type": "code",
   "execution_count": 24,
   "metadata": {},
   "outputs": [
    {
     "name": "stdout",
     "output_type": "stream",
     "text": [
      "(1482535, 143) (693359, 142)\n"
     ]
    }
   ],
   "source": [
    "cat_features = ['root_cat', 'sub_cat1', 'item_condition_id', 'shipping']\n",
    "for column in cat_features:\n",
    "    temp = pd.get_dummies(pd.Series(df_train_new[column]))\n",
    "    df_train_new = pd.concat([df_train_new,temp],axis=1)\n",
    "    df_train_new = df_train_new.drop([column],axis=1)\n",
    "\n",
    "for column in cat_features:\n",
    "    temp = pd.get_dummies(pd.Series(df_test_new[column]))\n",
    "    df_test_new = pd.concat([df_test_new,temp],axis=1)\n",
    "    df_test_new = df_test_new.drop([column],axis=1)\n",
    "\n",
    "print(df_train_new.values.shape, df_test_new.values.shape)"
   ]
  },
  {
   "cell_type": "markdown",
   "metadata": {},
   "source": [
    "## SCALE target variable"
   ]
  },
  {
   "cell_type": "code",
   "execution_count": 25,
   "metadata": {},
   "outputs": [
    {
     "data": {
      "text/plain": [
       "array([[<matplotlib.axes._subplots.AxesSubplot object at 0x184cf2198>]], dtype=object)"
      ]
     },
     "execution_count": 25,
     "metadata": {},
     "output_type": "execute_result"
    },
    {
     "data": {
      "image/png": "[encoded data removed]",
      "text/plain": [
       "<matplotlib.figure.Figure at 0x184ce9a58>"
      ]
     },
     "metadata": {},
     "output_type": "display_data"
    }
   ],
   "source": [
    "df_train_new[\"price\"] = np.log1p(df_train_new.price)\n",
    "pd.DataFrame(df_train_new.price).hist()"
   ]
  },
  {
   "cell_type": "markdown",
   "metadata": {},
   "source": [
    "## Drop columns"
   ]
  },
  {
   "cell_type": "code",
   "execution_count": 26,
   "metadata": {
    "collapsed": true
   },
   "outputs": [],
   "source": [
    "Y_train = df_train_new['price'].values\n",
    "\n",
    "columns_to_drop = ['name', 'category_name', 'item_description']\n",
    "\n",
    "df_train_new = df_train_new.drop(columns_to_drop, axis = 1)\n",
    "df_train_new = df_train_new.drop(['price'], axis = 1)\n",
    "df_train_new = df_train_new.drop(['train_id'], axis = 1)\n",
    "\n",
    "df_test_new = df_test_new.drop(columns_to_drop, axis = 1)\n",
    "df_test_new = df_test_new.drop(['test_id'], axis = 1)"
   ]
  },
  {
   "cell_type": "markdown",
   "metadata": {},
   "source": [
    "### Ensembling"
   ]
  },
  {
   "cell_type": "code",
   "execution_count": 27,
   "metadata": {
    "collapsed": true
   },
   "outputs": [],
   "source": [
    "from sklearn.metrics import r2_score\n",
    "\n",
    "def r2score(y_true, y_pred):\n",
    "    assert len(y_true) == len(y_pred)\n",
    "    return r2_score(y_true, y_pred)\n",
    "\n",
    "def rmsle(y_true, y_pred):\n",
    "     assert len(y_true) == len(y_pred)\n",
    "     return np.sqrt(np.mean(np.power(np.log(y_pred + 1) - np.log(y_true + 1), 2)))"
   ]
  },
  {
   "cell_type": "code",
   "execution_count": 28,
   "metadata": {
    "collapsed": true
   },
   "outputs": [],
   "source": [
    "from sklearn.model_selection import StratifiedKFold\n",
    "\n",
    "class Create_ensemble(object):\n",
    "    def __init__(self, n_splits, base_models):\n",
    "        self.n_splits = n_splits\n",
    "        self.base_models = base_models\n",
    "\n",
    "    def predict(self, X, y, T):\n",
    "        X = np.array(X)\n",
    "        y = np.array(y)\n",
    "        T = np.array(T)\n",
    "\n",
    "        folds = list(KFold(n_splits=self.n_splits, shuffle=True, random_state=2016).split(X, y))\n",
    "\n",
    "        S_train = np.zeros((X.shape[0], len(self.base_models)))\n",
    "        S_test = np.zeros((T.shape[0], len(self.base_models)))\n",
    "        \n",
    "        for i, clf in enumerate(self.base_models):\n",
    "            S_test_i = np.zeros((T.shape[0], self.n_splits))\n",
    "\n",
    "            for j, (train_idx, valid_idx) in enumerate(folds):\n",
    "                X_train = X[train_idx]\n",
    "                y_train = y[train_idx]\n",
    "                X_valid = X[valid_idx]\n",
    "                y_valid = y[valid_idx]\n",
    "                clf.fit(X_train, y_train)\n",
    "                valid_pred = clf.predict(X_valid)\n",
    "                S_train[valid_idx, i] = valid_pred\n",
    "                S_test_i[:, j] = clf.predict(T)\n",
    "                \n",
    "                print('Model: {}, fold: {}, rmsle: {}'.format(i, j, 1 - r2score(y_valid, valid_pred)))\n",
    "            print( \"\\nTraining RMSLE for model {} : {}\".format(i, 1 - r2score(y, S_train[:,i])))\n",
    "            S_test[:, i] = S_test_i.mean(axis=1)\n",
    "            \n",
    "        return S_train, S_test"
   ]
  },
  {
   "cell_type": "markdown",
   "metadata": {},
   "source": [
    "## Lightbm model"
   ]
  },
  {
   "cell_type": "code",
   "execution_count": 30,
   "metadata": {
    "collapsed": true
   },
   "outputs": [],
   "source": [
    "# LightGBM params\n",
    "lgb_params = {}\n",
    "lgb_params['learning_rate'] = 0.75\n",
    "lgb_params['n_estimators'] = 200\n",
    "lgb_params['max_depth'] = 60\n",
    "lgb_params['num_leaves'] = 50\n",
    "lgb_params['nthread'] = 4\n",
    "lgb_params['random_state'] = random_state\n",
    "\n",
    "lgb_model = LGBMRegressor(**lgb_params)"
   ]
  },
  {
   "cell_type": "markdown",
   "metadata": {},
   "source": [
    "## Ridge model"
   ]
  },
  {
   "cell_type": "code",
   "execution_count": 31,
   "metadata": {
    "collapsed": true
   },
   "outputs": [],
   "source": [
    "from sklearn.linear_model import Ridge\n",
    "ridge = Ridge(solver='auto', fit_intercept=True, alpha=0.4, max_iter=200, normalize=False, tol=0.01)"
   ]
  },
  {
   "cell_type": "code",
   "execution_count": 32,
   "metadata": {},
   "outputs": [
    {
     "data": {
      "text/plain": [
       "(1482535, 138)"
      ]
     },
     "execution_count": 32,
     "metadata": {},
     "output_type": "execute_result"
    }
   ],
   "source": [
    "df_train_new.shape"
   ]
  },
  {
   "cell_type": "code",
   "execution_count": 33,
   "metadata": {},
   "outputs": [
    {
     "name": "stdout",
     "output_type": "stream",
     "text": [
      "Model: 0, fold: 0, rmsle: 0.5384349389378713\n",
      "Model: 0, fold: 1, rmsle: 0.5433630572278948\n",
      "Model: 0, fold: 2, rmsle: 0.5380760624020501\n",
      "Model: 0, fold: 3, rmsle: 0.5420340680940808\n",
      "Model: 0, fold: 4, rmsle: 0.5388752723939941\n",
      "Model: 0, fold: 5, rmsle: 0.5349574571029326\n",
      "Model: 0, fold: 6, rmsle: 0.5399135358614914\n",
      "Model: 0, fold: 7, rmsle: 0.5371328513187622\n",
      "Model: 0, fold: 8, rmsle: 0.5426537191617725\n",
      "Model: 0, fold: 9, rmsle: 0.5363878921091445\n",
      "\n",
      "Training RMSLE for model 0 : 0.5391714639342451\n",
      "Model: 1, fold: 0, rmsle: 0.6789844065916032\n",
      "Model: 1, fold: 1, rmsle: 0.6831214363278085\n",
      "Model: 1, fold: 2, rmsle: 0.6844211976376292\n",
      "Model: 1, fold: 3, rmsle: 0.6837675729737981\n",
      "Model: 1, fold: 4, rmsle: 0.6839416805619367\n",
      "Model: 1, fold: 5, rmsle: 0.678533572010225\n",
      "Model: 1, fold: 6, rmsle: 0.6831613050301152\n",
      "Model: 1, fold: 7, rmsle: 0.6813826712604161\n",
      "Model: 1, fold: 8, rmsle: 0.6835046413551593\n",
      "Model: 1, fold: 9, rmsle: 0.6796098054809202\n",
      "\n",
      "Training RMSLE for model 1 : 0.6820354891426421\n"
     ]
    }
   ],
   "source": [
    "lgb_stack = Create_ensemble(n_splits = 10, base_models = [lgb_model, ridge])\n",
    "X = df_train_new\n",
    "Y = Y_train\n",
    "T = df_test_new\n",
    "lgb_train_pred, lgb_test_pred = lgb_stack.predict(X, Y, T)"
   ]
  },
  {
   "cell_type": "markdown",
   "metadata": {},
   "source": [
    "## Submission"
   ]
  },
  {
   "cell_type": "code",
   "execution_count": 123,
   "metadata": {
    "collapsed": true
   },
   "outputs": [],
   "source": [
    "submission: pd.DataFrame = df_test[['test_id']]\n",
    "submission['price'] = np.expm1(lgb_test_pred)\n",
    "submission.to_csv(\"submission_v1.csv\", index=False)"
   ]
  },
  {
   "cell_type": "markdown",
   "metadata": {},
   "source": [
    "## correlation among the models"
   ]
  }
 ],
 "metadata": {
  "kernelspec": {
   "display_name": "Python 3",
   "language": "python",
   "name": "python3"
  },
  "language_info": {
   "codemirror_mode": {
    "name": "ipython",
    "version": 3
   },
   "file_extension": ".py",
   "mimetype": "text/x-python",
   "name": "python",
   "nbconvert_exporter": "python",
   "pygments_lexer": "ipython3",
   "version": "3.6.3"
  }
 },
 "nbformat": 4,
 "nbformat_minor": 2
}
